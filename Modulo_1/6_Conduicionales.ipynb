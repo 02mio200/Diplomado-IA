{
 "cells": [
  {
   "cell_type": "markdown",
   "metadata": {},
   "source": [
    "# Condicionales\n"
   ]
  },
  {
   "cell_type": "code",
   "execution_count": null,
   "metadata": {},
   "outputs": [],
   "source": [
    "temperatura = 30\n",
    "if temperatura > 35:\n",
    "    print('avison por alta temperatura')"
   ]
  },
  {
   "cell_type": "code",
   "execution_count": null,
   "metadata": {},
   "outputs": [],
   "source": [
    "if temperatura > 35:\n",
    "    print('aviso por alta temperatura')\n",
    "else:\n",
    "    print('parametros normales')"
   ]
  },
  {
   "cell_type": "code",
   "execution_count": null,
   "metadata": {},
   "outputs": [],
   "source": [
    "if temperatura < 20:\n",
    "    if temperatura < 10:\n",
    "        print('alerta azul')\n",
    "    else:\n",
    "        print('parametros normales')\n"
   ]
  },
  {
   "cell_type": "code",
   "execution_count": null,
   "metadata": {},
   "outputs": [],
   "source": [
    "temperatura = 19\n",
    "\n",
    "if temperatura < 10:\n",
    "        print('alerta azul')\n",
    "elif temperatura < 20:\n",
    "        print('alerta verde')\n",
    "elif temperatura <= 30:\n",
    "        print('Alerta naranja')\n",
    "else:\n",
    "        print('alerta roja')"
   ]
  }
 ],
 "metadata": {
  "kernelspec": {
   "display_name": "Diplomado",
   "language": "python",
   "name": "python3"
  },
  "language_info": {
   "name": "python",
   "version": "3.10.14"
  }
 },
 "nbformat": 4,
 "nbformat_minor": 2
}
